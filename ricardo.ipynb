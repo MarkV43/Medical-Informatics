{
  "cells": [
    {
      "cell_type": "code",
      "execution_count": 14,
      "metadata": {
        "colab": {
          "base_uri": "https://localhost:8080/"
        },
        "id": "zlmVhMvdRigL",
        "outputId": "cd9e398e-dba2-42f8-fa88-835323aaed9f"
      },
      "outputs": [],
      "source": [
        "import os\n",
        "import polars as pl\n",
        "\n",
        "source_directory = 'data'\n",
        "output_directory = 'out'\n",
        "\n",
        "if not os.path.exists(output_directory):\n",
        "    os.makedirs(output_directory)\n",
        "\n",
        "def clean_csv(file_path):\n",
        "    data = pl.read_csv(file_path, delimiter=';')\n",
        "    data.dropna(axis=1, how='all', inplace=True)\n",
        "    output_file_path = os.path.join(output_directory, os.path.basename(file_path))\n",
        "    data.to_csv(output_file_path, index=False, sep=';')\n",
        "\n",
        "\n",
        "for file_name in os.listdir(source_directory):\n",
        "    if file_name.endswith('.csv'):\n",
        "        file_path = os.path.join(source_directory, file_name)\n",
        "        clean_csv(file_path)\n"
      ]
    },
    {
      "cell_type": "code",
      "execution_count": 15,
      "metadata": {
        "id": "5J35amcsSIp2"
      },
      "outputs": [
        {
          "name": "stdout",
          "output_type": "stream",
          "text": [
            "Training samples: 57\n",
            "Testing samples:  6\n"
          ]
        }
      ],
      "source": [
        "import numpy as np\n",
        "datadir = \"data\"\n",
        "\n",
        "X_data = []\n",
        "Y_data = []\n",
        "X_val = []\n",
        "Y_val = []\n",
        "\n",
        "\n",
        "# control\n",
        "files = os.listdir(os.path.join(datadir, \"ctrl\"))\n",
        "files.sort()\n",
        "for file in files:\n",
        "    path = os.path.join(datadir, \"ctrl\", file)\n",
        "    df = pl.read_csv(path, has_header=False, columns=[0], separator=\";\")\n",
        "    X_data.append(np.reshape(df.to_numpy(), (-1,)))\n",
        "    Y_data.append(np.array([1.0, 0.0]))\n",
        "\n",
        "# positive\n",
        "files = os.listdir(os.path.join(datadir, \"pt\"))\n",
        "files.sort()\n",
        "for file in files:\n",
        "    path = os.path.join(datadir, \"pt\", file)\n",
        "    df = pl.read_csv(path, has_header=False, columns=[0], separator=\";\")\n",
        "    X_data.append(np.reshape(df.to_numpy(), (-1,)))\n",
        "    Y_data.append(np.array([0.0, 1.0]))\n",
        "\n",
        "# validation\n",
        "files = os.listdir(os.path.join(datadir, \"v\"))\n",
        "files.sort()\n",
        "for file in files:\n",
        "    path = os.path.join(datadir, \"v\", file)\n",
        "    df = pl.read_csv(path, has_header=False, columns=[0], separator=\";\")\n",
        "    X_val.append(np.reshape(df.to_numpy(), (-1,)))\n",
        "    Y_val.append(np.array([0.0, 1.0]) if 'd' in file else np.array([1.0, 0.0]))\n",
        "\n",
        "assert len(X_data) == len(Y_data)\n",
        "assert len(X_val) == len(Y_val)\n",
        "assert len(X_data[0]) == len(X_val[0])\n",
        "assert len(Y_data[0]) == len(Y_val[0])\n",
        "\n",
        "print(\"Training samples:\", len(X_data))\n",
        "print(\"Testing samples: \", len(X_val))"
      ]
    },
    {
      "cell_type": "code",
      "execution_count": 17,
      "metadata": {
        "colab": {
          "base_uri": "https://localhost:8080/"
        },
        "id": "FyZTBriuVuhg",
        "outputId": "4be38fac-3cdb-49bf-9d18-199a5896db6e"
      },
      "outputs": [
        {
          "data": {
            "text/plain": [
              "[array([-0.000957, -0.000863, -0.000702, ..., -0.00106 , -0.000734,\n",
              "        -0.000483]),\n",
              " array([-1.02e-03, -9.30e-04, -8.28e-04, ...,  9.04e-05,  2.81e-04,\n",
              "         2.60e-04]),\n",
              " array([-0.00125 , -0.0011  , -0.000955, ...,  0.000673,  0.000955,\n",
              "         0.000893]),\n",
              " array([-0.00162, -0.00133, -0.00115, ...,  0.00144,  0.00177,  0.00174]),\n",
              " array([-0.0023 , -0.00198, -0.00175, ...,  0.00193,  0.00245,  0.0026 ]),\n",
              " array([-0.0021 , -0.00182, -0.00168, ...,  0.00173,  0.00234,  0.00264]),\n",
              " array([-0.00132, -0.00164, -0.00188, ..., -0.00091, -0.00114, -0.00121]),\n",
              " array([-0.00124 , -0.00161 , -0.00189 , ..., -0.000881, -0.00106 ,\n",
              "        -0.0011  ]),\n",
              " array([-0.000997, -0.00143 , -0.00176 , ..., -0.0005  , -0.000584,\n",
              "        -0.000623]),\n",
              " array([-6.02e-04, -1.10e-03, -1.47e-03, ..., -7.61e-05, -4.88e-05,\n",
              "        -5.19e-05]),\n",
              " array([-0.000211, -0.000739, -0.00109 , ...,  0.000118,  0.00025 ,\n",
              "         0.000326]),\n",
              " array([-5.91e-05, -5.78e-04, -8.89e-04, ...,  1.20e-04,  3.07e-04,\n",
              "         4.05e-04]),\n",
              " array([-5.91e-05, -5.78e-04, -8.89e-04, ...,  1.20e-04,  3.07e-04,\n",
              "         4.05e-04]),\n",
              " array([ 4.02e-05, -4.51e-04, -7.02e-04, ...,  2.73e-05,  1.49e-04,\n",
              "         2.34e-04]),\n",
              " array([-0.00177, -0.00207, -0.00224, ..., -0.00159, -0.00212, -0.00226]),\n",
              " array([ 1.04e-04, -1.76e-04, -8.60e-04, ..., -4.47e-04, -4.29e-04,\n",
              "         3.75e-05]),\n",
              " array([ 0.000814,  0.000451, -0.000373, ..., -0.000488, -0.00035 ,\n",
              "         0.000122]),\n",
              " array([ 1.23e-03,  7.49e-04, -1.47e-04, ..., -6.67e-05, -2.04e-04,\n",
              "         5.37e-05]),\n",
              " array([ 1.55e-03,  9.59e-04, -5.21e-06, ...,  4.80e-04,  2.43e-04,\n",
              "         4.28e-04]),\n",
              " array([0.00177 , 0.00129 , 0.000455, ..., 0.00103 , 0.000791, 0.000968]),\n",
              " array([0.00183 , 0.00135 , 0.000561, ..., 0.0008  , 0.000694, 0.001   ]),\n",
              " array([1.66e-03, 1.30e-03, 6.09e-04, ..., 1.89e-04, 9.57e-05, 3.25e-04]),\n",
              " array([ 0.00125 ,  0.000858,  0.000281, ..., -0.00045 , -0.000502,\n",
              "        -0.000265]),\n",
              " array([ 0.000192, -0.000173, -0.000902, ..., -0.000264, -0.00026 ,\n",
              "         0.000152]),\n",
              " array([-0.00208, -0.00169, -0.00144, ...,  0.00152,  0.00206,  0.00233]),\n",
              " array([-0.002  , -0.00168, -0.00146, ...,  0.00133,  0.00174,  0.00197]),\n",
              " array([-0.00075 , -0.000728, -0.000637, ..., -0.0011  , -0.00122 ,\n",
              "        -0.00128 ]),\n",
              " array([ 0.000379,  0.0004  ,  0.000346, ..., -0.00154 , -0.0011  ,\n",
              "        -0.000289]),\n",
              " array([ 0.000183,  0.000198,  0.000142, ..., -0.00035 , -0.000101,\n",
              "         0.000245]),\n",
              " array([ 2.01e-04,  2.74e-04,  2.29e-04, ..., -2.11e-04, -1.65e-04,\n",
              "        -4.78e-05]),\n",
              " array([2.80e-04, 3.64e-04, 3.43e-04, ..., 3.82e-05, 1.16e-04, 1.90e-04]),\n",
              " array([0.000274, 0.000353, 0.000339, ..., 0.000359, 0.000529, 0.000628]),\n",
              " array([0.000174, 0.000324, 0.000386, ..., 0.000131, 0.000321, 0.000423]),\n",
              " array([ 2.59e-04,  3.77e-04,  4.19e-04, ..., -2.22e-06,  1.25e-04,\n",
              "         2.18e-04]),\n",
              " array([ 3.53e-04,  5.31e-04,  5.88e-04, ..., -8.45e-05,  9.22e-05,\n",
              "         2.47e-04]),\n",
              " array([ 0.000497,  0.000529,  0.000492, ..., -0.00165 , -0.00132 ,\n",
              "        -0.00042 ]),\n",
              " array([-8.23e-05, -1.65e-04, -4.49e-04, ..., -6.71e-04, -4.66e-04,\n",
              "        -3.44e-04]),\n",
              " array([-0.000216, -0.000246, -0.000456, ..., -0.000707, -0.000609,\n",
              "        -0.000553]),\n",
              " array([-1.04e-04, -3.95e-05, -1.52e-04, ..., -7.90e-04, -7.02e-04,\n",
              "        -6.47e-04]),\n",
              " array([ 0.000382,  0.000387,  0.000184, ..., -0.000555, -0.000426,\n",
              "        -0.000305]),\n",
              " array([ 0.000382,  0.000387,  0.000184, ..., -0.000555, -0.000426,\n",
              "        -0.000305]),\n",
              " array([0.000819, 0.000646, 0.000339, ..., 0.000394, 0.000328, 0.000242]),\n",
              " array([ 6.81e-04,  3.73e-04, -5.14e-05, ..., -3.78e-04, -4.24e-04,\n",
              "        -3.64e-04]),\n",
              " array([ 0.000594,  0.000226, -0.00022 , ..., -0.00032 , -0.000223,\n",
              "        -0.000128]),\n",
              " array([-6.92e-05, -8.06e-05, -2.76e-04, ..., -7.19e-04, -6.36e-04,\n",
              "        -5.94e-04]),\n",
              " array([-6.92e-05, -8.06e-05, -2.76e-04, ..., -7.19e-04, -6.36e-04,\n",
              "        -5.94e-04]),\n",
              " array([0.000443, 0.000657, 0.000832, ..., 0.000915, 0.000734, 0.000459]),\n",
              " array([0.000567, 0.000771, 0.000955, ..., 0.00123 , 0.00106 , 0.000794]),\n",
              " array([0.000604, 0.000755, 0.000899, ..., 0.00113 , 0.00105 , 0.000889]),\n",
              " array([0.00033 , 0.000557, 0.00078 , ..., 0.000901, 0.000813, 0.000688]),\n",
              " array([-1.49e-04,  6.55e-05,  3.38e-04, ...,  8.56e-04,  7.98e-04,\n",
              "         6.81e-04]),\n",
              " array([-1.37e-04,  8.15e-05,  3.55e-04, ...,  2.98e-04,  3.52e-04,\n",
              "         3.83e-04]),\n",
              " array([-0.000783, -0.000593, -0.000292, ...,  0.00028 ,  0.000237,\n",
              "         0.000179]),\n",
              " array([-0.000385, -0.000725, -0.000863, ...,  0.000438,  0.000399,\n",
              "         0.000283]),\n",
              " array([ 0.000735,  0.00103 ,  0.00129 , ...,  0.000667,  0.000259,\n",
              "        -0.000292]),\n",
              " array([0.000814, 0.00106 , 0.0013  , ..., 0.00103 , 0.000783, 0.000361]),\n",
              " array([0.000887, 0.00106 , 0.00125 , ..., 0.000971, 0.000838, 0.000636])]"
            ]
          },
          "execution_count": 17,
          "metadata": {},
          "output_type": "execute_result"
        }
      ],
      "source": [
        "X_data"
      ]
    },
    {
      "cell_type": "code",
      "execution_count": 37,
      "metadata": {},
      "outputs": [],
      "source": [
        "def get_average_change(array):\n",
        "    x = np.linspace(0, 1, len(array)-1)\n",
        "    arr = (array[1:]-array[:-1]) * x * (1 - x) * 6\n",
        "    return sum(arr)"
      ]
    },
    {
      "cell_type": "code",
      "execution_count": 23,
      "metadata": {
        "id": "gL125sAHS7vC"
      },
      "outputs": [],
      "source": [
        "def extract_features(arrays):\n",
        "    features = []\n",
        "    for array in arrays:\n",
        "        mean = np.mean(array)\n",
        "        std = np.std(array)\n",
        "        min_val = np.min(array)\n",
        "        max_val = np.max(array)\n",
        "        median = np.median(array)\n",
        "        range_val = max_val - min_val\n",
        "        q1 = np.percentile(array, 25)\n",
        "        q3 = np.percentile(array, 75)\n",
        "\n",
        "        half = len(array)//2\n",
        "        start_median = np.median(array[:half])\n",
        "        end_median = np.median(array[half:])\n",
        "\n",
        "        mean_square = np.mean(array ** 2)\n",
        "        change = get_average_change(array)\n",
        "\n",
        "        features.append({\n",
        "            \"mean\": mean,\n",
        "            \"std\": std,\n",
        "            \"min\": min_val,\n",
        "            \"max\": max_val,\n",
        "            \"median\": median,\n",
        "            \"range\": range_val,\n",
        "            \"q1\": q1,\n",
        "            \"q3\": q3,\n",
        "            \"start_median\": start_median,\n",
        "            \"end_median\": end_median,\n",
        "            \"mean_square\": mean_square,\n",
        "            \"avg_change\": change,\n",
        "        })\n",
        "\n",
        "    features = pl.DataFrame(features)\n",
        "    return features\n"
      ]
    },
    {
      "cell_type": "code",
      "execution_count": 24,
      "metadata": {
        "id": "LLubi5U3XLVA"
      },
      "outputs": [],
      "source": [
        "feature_set = extract_features(X_data)\n",
        "feature_set_val = extract_features(X_val)\n"
      ]
    },
    {
      "cell_type": "code",
      "execution_count": 25,
      "metadata": {},
      "outputs": [
        {
          "data": {
            "text/html": [
              "<div><style>\n",
              ".dataframe > thead > tr,\n",
              ".dataframe > tbody > tr {\n",
              "  text-align: right;\n",
              "  white-space: pre-wrap;\n",
              "}\n",
              "</style>\n",
              "<small>shape: (57, 11)</small><table border=\"1\" class=\"dataframe\"><thead><tr><th>mean</th><th>std</th><th>min</th><th>max</th><th>median</th><th>range</th><th>q1</th><th>q3</th><th>start_median</th><th>end_median</th><th>mean_square</th></tr><tr><td>f64</td><td>f64</td><td>f64</td><td>f64</td><td>f64</td><td>f64</td><td>f64</td><td>f64</td><td>f64</td><td>f64</td><td>f64</td></tr></thead><tbody><tr><td>-0.000001</td><td>0.001234</td><td>-0.00582</td><td>0.00595</td><td>0.000005</td><td>0.01177</td><td>-0.000778</td><td>0.00079</td><td>0.000011</td><td>-0.000003</td><td>0.000002</td></tr><tr><td>1.2860e-7</td><td>0.001142</td><td>-0.00438</td><td>0.00532</td><td>-0.000005</td><td>0.0097</td><td>-0.000739</td><td>0.000728</td><td>3.9560e-7</td><td>-0.00001</td><td>0.000001</td></tr><tr><td>5.8977e-7</td><td>0.001124</td><td>-0.00396</td><td>0.00506</td><td>-0.000012</td><td>0.00902</td><td>-0.000728</td><td>0.000719</td><td>-0.00001</td><td>-0.000017</td><td>0.000001</td></tr><tr><td>0.000001</td><td>0.001193</td><td>-0.00461</td><td>0.00468</td><td>-0.000018</td><td>0.00929</td><td>-0.000766</td><td>0.00075</td><td>-0.000008</td><td>-0.00003</td><td>0.000001</td></tr><tr><td>8.4025e-7</td><td>0.001402</td><td>-0.00495</td><td>0.00559</td><td>-0.00004</td><td>0.01054</td><td>-0.000893</td><td>0.000864</td><td>-0.000034</td><td>-0.000046</td><td>0.000002</td></tr><tr><td>&hellip;</td><td>&hellip;</td><td>&hellip;</td><td>&hellip;</td><td>&hellip;</td><td>&hellip;</td><td>&hellip;</td><td>&hellip;</td><td>&hellip;</td><td>&hellip;</td><td>&hellip;</td></tr><tr><td>-2.0739e-7</td><td>0.00092</td><td>-0.00407</td><td>0.00557</td><td>-0.000045</td><td>0.00964</td><td>-0.000521</td><td>0.000468</td><td>-0.000047</td><td>-0.000044</td><td>8.4592e-7</td></tr><tr><td>-3.7262e-7</td><td>0.000911</td><td>-0.00345</td><td>0.00529</td><td>-0.000071</td><td>0.00874</td><td>-0.000551</td><td>0.000477</td><td>-0.00007</td><td>-0.000071</td><td>8.2919e-7</td></tr><tr><td>7.2132e-7</td><td>0.000955</td><td>-0.00526</td><td>0.00335</td><td>0.0000614</td><td>0.00861</td><td>-0.000505</td><td>0.000593</td><td>0.00005</td><td>0.0000711</td><td>9.1269e-7</td></tr><tr><td>7.8934e-7</td><td>0.000986</td><td>-0.00554</td><td>0.00318</td><td>0.0000791</td><td>0.00872</td><td>-0.000503</td><td>0.000603</td><td>0.000083</td><td>0.0000739</td><td>9.7123e-7</td></tr><tr><td>7.8847e-7</td><td>0.000952</td><td>-0.0061</td><td>0.00341</td><td>0.0000715</td><td>0.00951</td><td>-0.000435</td><td>0.000567</td><td>0.000082</td><td>0.0000623</td><td>9.0536e-7</td></tr></tbody></table></div>"
            ],
            "text/plain": [
              "shape: (57, 11)\n",
              "┌────────────┬──────────┬──────────┬─────────┬───┬──────────┬────────────┬────────────┬────────────┐\n",
              "│ mean       ┆ std      ┆ min      ┆ max     ┆ … ┆ q3       ┆ start_medi ┆ end_median ┆ mean_squar │\n",
              "│ ---        ┆ ---      ┆ ---      ┆ ---     ┆   ┆ ---      ┆ an         ┆ ---        ┆ e          │\n",
              "│ f64        ┆ f64      ┆ f64      ┆ f64     ┆   ┆ f64      ┆ ---        ┆ f64        ┆ ---        │\n",
              "│            ┆          ┆          ┆         ┆   ┆          ┆ f64        ┆            ┆ f64        │\n",
              "╞════════════╪══════════╪══════════╪═════════╪═══╪══════════╪════════════╪════════════╪════════════╡\n",
              "│ -0.000001  ┆ 0.001234 ┆ -0.00582 ┆ 0.00595 ┆ … ┆ 0.00079  ┆ 0.000011   ┆ -0.000003  ┆ 0.000002   │\n",
              "│ 1.2860e-7  ┆ 0.001142 ┆ -0.00438 ┆ 0.00532 ┆ … ┆ 0.000728 ┆ 3.9560e-7  ┆ -0.00001   ┆ 0.000001   │\n",
              "│ 5.8977e-7  ┆ 0.001124 ┆ -0.00396 ┆ 0.00506 ┆ … ┆ 0.000719 ┆ -0.00001   ┆ -0.000017  ┆ 0.000001   │\n",
              "│ 0.000001   ┆ 0.001193 ┆ -0.00461 ┆ 0.00468 ┆ … ┆ 0.00075  ┆ -0.000008  ┆ -0.00003   ┆ 0.000001   │\n",
              "│ 8.4025e-7  ┆ 0.001402 ┆ -0.00495 ┆ 0.00559 ┆ … ┆ 0.000864 ┆ -0.000034  ┆ -0.000046  ┆ 0.000002   │\n",
              "│ …          ┆ …        ┆ …        ┆ …       ┆ … ┆ …        ┆ …          ┆ …          ┆ …          │\n",
              "│ -2.0739e-7 ┆ 0.00092  ┆ -0.00407 ┆ 0.00557 ┆ … ┆ 0.000468 ┆ -0.000047  ┆ -0.000044  ┆ 8.4592e-7  │\n",
              "│ -3.7262e-7 ┆ 0.000911 ┆ -0.00345 ┆ 0.00529 ┆ … ┆ 0.000477 ┆ -0.00007   ┆ -0.000071  ┆ 8.2919e-7  │\n",
              "│ 7.2132e-7  ┆ 0.000955 ┆ -0.00526 ┆ 0.00335 ┆ … ┆ 0.000593 ┆ 0.00005    ┆ 0.0000711  ┆ 9.1269e-7  │\n",
              "│ 7.8934e-7  ┆ 0.000986 ┆ -0.00554 ┆ 0.00318 ┆ … ┆ 0.000603 ┆ 0.000083   ┆ 0.0000739  ┆ 9.7123e-7  │\n",
              "│ 7.8847e-7  ┆ 0.000952 ┆ -0.0061  ┆ 0.00341 ┆ … ┆ 0.000567 ┆ 0.000082   ┆ 0.0000623  ┆ 9.0536e-7  │\n",
              "└────────────┴──────────┴──────────┴─────────┴───┴──────────┴────────────┴────────────┴────────────┘"
            ]
          },
          "execution_count": 25,
          "metadata": {},
          "output_type": "execute_result"
        }
      ],
      "source": [
        "feature_set"
      ]
    },
    {
      "cell_type": "code",
      "execution_count": 26,
      "metadata": {
        "colab": {
          "base_uri": "https://localhost:8080/"
        },
        "id": "CcVukaQtXUUf",
        "outputId": "fb4b1253-7082-42d4-f99a-a21037dbd685"
      },
      "outputs": [
        {
          "name": "stdout",
          "output_type": "stream",
          "text": [
            "Accuracy: 0.8333333333333334\n",
            "Classification Report:\n",
            "               precision    recall  f1-score   support\n",
            "\n",
            "           0       0.75      1.00      0.86         3\n",
            "           1       1.00      0.67      0.80         3\n",
            "\n",
            "   micro avg       0.83      0.83      0.83         6\n",
            "   macro avg       0.88      0.83      0.83         6\n",
            "weighted avg       0.88      0.83      0.83         6\n",
            " samples avg       0.83      0.83      0.83         6\n",
            "\n"
          ]
        }
      ],
      "source": [
        "from sklearn.ensemble import RandomForestClassifier\n",
        "from sklearn.model_selection import train_test_split\n",
        "from sklearn.metrics import accuracy_score, classification_report\n",
        "\n",
        "\n",
        "clf = RandomForestClassifier(n_estimators=100, random_state=42)\n",
        "clf.fit(feature_set, Y_data)\n",
        "y_pred = clf.predict(feature_set_val)\n",
        "\n",
        "print(\"Accuracy:\", accuracy_score(Y_val, y_pred))\n",
        "print(\"Classification Report:\\n\", classification_report(Y_val, y_pred))\n"
      ]
    },
    {
      "cell_type": "code",
      "execution_count": 27,
      "metadata": {
        "colab": {
          "base_uri": "https://localhost:8080/"
        },
        "id": "uzN938UeeJMt",
        "outputId": "eb9665a3-d105-4ebf-bb34-8661574a474a"
      },
      "outputs": [
        {
          "name": "stdout",
          "output_type": "stream",
          "text": [
            "Fitting 5 folds for each of 144 candidates, totalling 720 fits\n"
          ]
        },
        {
          "name": "stderr",
          "output_type": "stream",
          "text": [
            "/home/mvogt/ufsc/infmed/.venv/lib/python3.12/site-packages/sklearn/model_selection/_validation.py:540: FitFailedWarning: \n",
            "240 fits failed out of a total of 720.\n",
            "The score on these train-test partitions for these parameters will be set to nan.\n",
            "If these failures are not expected, you can try to debug them by setting error_score='raise'.\n",
            "\n",
            "Below are more details about the failures:\n",
            "--------------------------------------------------------------------------------\n",
            "240 fits failed with the following error:\n",
            "Traceback (most recent call last):\n",
            "  File \"/home/mvogt/ufsc/infmed/.venv/lib/python3.12/site-packages/sklearn/model_selection/_validation.py\", line 888, in _fit_and_score\n",
            "    estimator.fit(X_train, y_train, **fit_params)\n",
            "  File \"/home/mvogt/ufsc/infmed/.venv/lib/python3.12/site-packages/sklearn/base.py\", line 1466, in wrapper\n",
            "    estimator._validate_params()\n",
            "  File \"/home/mvogt/ufsc/infmed/.venv/lib/python3.12/site-packages/sklearn/base.py\", line 666, in _validate_params\n",
            "    validate_parameter_constraints(\n",
            "  File \"/home/mvogt/ufsc/infmed/.venv/lib/python3.12/site-packages/sklearn/utils/_param_validation.py\", line 95, in validate_parameter_constraints\n",
            "    raise InvalidParameterError(\n",
            "sklearn.utils._param_validation.InvalidParameterError: The 'max_features' parameter of RandomForestClassifier must be an int in the range [1, inf), a float in the range (0.0, 1.0], a str among {'log2', 'sqrt'} or None. Got 'auto' instead.\n",
            "\n",
            "  warnings.warn(some_fits_failed_message, FitFailedWarning)\n",
            "/home/mvogt/ufsc/infmed/.venv/lib/python3.12/site-packages/sklearn/model_selection/_search.py:1103: UserWarning: One or more of the test scores are non-finite: [       nan        nan        nan        nan        nan        nan\n",
            "        nan        nan        nan        nan        nan        nan\n",
            " 0.35606061 0.38939394 0.38939394 0.37424242 0.40606061 0.40606061\n",
            " 0.38939394 0.44242424 0.35606061 0.37272727 0.42272727 0.43939394\n",
            " 0.31818182 0.44242424 0.44242424 0.38939394 0.42575758 0.33787879\n",
            " 0.44090909 0.42272727 0.44090909 0.42272727 0.40757576 0.45606061\n",
            "        nan        nan        nan        nan        nan        nan\n",
            "        nan        nan        nan        nan        nan        nan\n",
            " 0.37272727 0.38939394 0.37272727 0.39090909 0.45606061 0.44090909\n",
            " 0.40454545 0.42424242 0.34848485 0.33787879 0.33787879 0.43939394\n",
            " 0.35606061 0.38939394 0.37575758 0.40757576 0.49090909 0.33787879\n",
            " 0.40757576 0.47424242 0.42424242 0.33939394 0.37272727 0.37272727\n",
            "        nan        nan        nan        nan        nan        nan\n",
            "        nan        nan        nan        nan        nan        nan\n",
            " 0.37424242 0.40454545 0.44090909 0.42424242 0.36969697 0.42575758\n",
            " 0.38939394 0.40454545 0.37121212 0.40757576 0.38787879 0.38939394\n",
            " 0.42121212 0.45606061 0.35606061 0.40606061 0.42272727 0.33939394\n",
            " 0.37424242 0.44090909 0.35454545 0.37121212 0.45606061 0.38939394\n",
            "        nan        nan        nan        nan        nan        nan\n",
            "        nan        nan        nan        nan        nan        nan\n",
            " 0.35606061 0.37272727 0.42424242 0.42424242 0.42424242 0.37121212\n",
            " 0.42424242 0.37272727 0.42424242 0.42424242 0.33787879 0.40606061\n",
            " 0.35606061 0.42272727 0.45757576 0.42424242 0.38787879 0.40909091\n",
            " 0.38939394 0.37272727 0.35606061 0.35606061 0.35606061 0.35606061]\n",
            "  warnings.warn(\n"
          ]
        }
      ],
      "source": [
        "from sklearn.model_selection import GridSearchCV\n",
        "\n",
        "param_grid_rf = {\n",
        "    'n_estimators': [10, 50, 100, 200],\n",
        "    'max_features': ['auto', 'sqrt', 'log2'],\n",
        "    'max_depth': [None, 10, 20, 30],\n",
        "    'min_samples_split': [2, 5, 10]\n",
        "}\n",
        "\n",
        "grid_search_rf = GridSearchCV(RandomForestClassifier(), param_grid_rf, cv=5, verbose=1)\n",
        "grid_search_rf.fit(feature_set, Y_data)\n",
        "best_rf = grid_search_rf.best_estimator_\n"
      ]
    },
    {
      "cell_type": "code",
      "execution_count": 28,
      "metadata": {
        "colab": {
          "base_uri": "https://localhost:8080/"
        },
        "id": "MHs_3udNd8rM",
        "outputId": "fa28e8d1-1902-4e92-8ac0-36af2a9adbb3"
      },
      "outputs": [
        {
          "name": "stdout",
          "output_type": "stream",
          "text": [
            "Accuracy: 0.6666666666666666\n",
            "Classification Report:\n",
            "               precision    recall  f1-score   support\n",
            "\n",
            "           0       1.00      0.33      0.50         3\n",
            "           1       0.60      1.00      0.75         3\n",
            "\n",
            "   micro avg       0.67      0.67      0.67         6\n",
            "   macro avg       0.80      0.67      0.62         6\n",
            "weighted avg       0.80      0.67      0.62         6\n",
            " samples avg       0.67      0.67      0.67         6\n",
            "\n"
          ]
        }
      ],
      "source": [
        "from sklearn.neighbors import KNeighborsClassifier\n",
        "knn_model = KNeighborsClassifier(n_neighbors=5)\n",
        "knn_model.fit(feature_set, Y_data)\n",
        "knn_pred = knn_model.predict(feature_set_val)\n",
        "\n",
        "print(\"Accuracy:\", accuracy_score(Y_val, knn_pred))\n",
        "print(\"Classification Report:\\n\", classification_report(Y_val, knn_pred))\n"
      ]
    },
    {
      "cell_type": "code",
      "execution_count": 29,
      "metadata": {
        "id": "YXuw8_0je9hC"
      },
      "outputs": [],
      "source": [
        "Y_data = np.argmax(Y_data, axis=1)\n",
        "Y_val = np.argmax(Y_val, axis=1)\n"
      ]
    },
    {
      "cell_type": "code",
      "execution_count": 31,
      "metadata": {
        "colab": {
          "base_uri": "https://localhost:8080/"
        },
        "id": "aKM2TE5Da9yo",
        "outputId": "6284419d-2738-4b13-8cb9-7d863593555d"
      },
      "outputs": [
        {
          "name": "stdout",
          "output_type": "stream",
          "text": [
            "Accuracy: 0.5\n",
            "Classification Report:\n",
            "               precision    recall  f1-score   support\n",
            "\n",
            "           0       0.00      0.00      0.00         3\n",
            "           1       0.50      1.00      0.67         3\n",
            "\n",
            "    accuracy                           0.50         6\n",
            "   macro avg       0.25      0.50      0.33         6\n",
            "weighted avg       0.25      0.50      0.33         6\n",
            "\n"
          ]
        },
        {
          "name": "stderr",
          "output_type": "stream",
          "text": [
            "/home/mvogt/ufsc/infmed/.venv/lib/python3.12/site-packages/sklearn/metrics/_classification.py:1531: UndefinedMetricWarning: Precision is ill-defined and being set to 0.0 in labels with no predicted samples. Use `zero_division` parameter to control this behavior.\n",
            "  _warn_prf(average, modifier, f\"{metric.capitalize()} is\", len(result))\n",
            "/home/mvogt/ufsc/infmed/.venv/lib/python3.12/site-packages/sklearn/metrics/_classification.py:1531: UndefinedMetricWarning: Precision is ill-defined and being set to 0.0 in labels with no predicted samples. Use `zero_division` parameter to control this behavior.\n",
            "  _warn_prf(average, modifier, f\"{metric.capitalize()} is\", len(result))\n",
            "/home/mvogt/ufsc/infmed/.venv/lib/python3.12/site-packages/sklearn/metrics/_classification.py:1531: UndefinedMetricWarning: Precision is ill-defined and being set to 0.0 in labels with no predicted samples. Use `zero_division` parameter to control this behavior.\n",
            "  _warn_prf(average, modifier, f\"{metric.capitalize()} is\", len(result))\n"
          ]
        }
      ],
      "source": [
        "from sklearn.svm import SVC\n",
        "svm_model = SVC(kernel='linear', C=1.0)  # Linear kernel\n",
        "svm_model.fit(feature_set, Y_data)\n",
        "svm_pred = svm_model.predict(feature_set_val)\n",
        "\n",
        "print(\"Accuracy:\", accuracy_score(Y_val, svm_pred))\n",
        "print(\"Classification Report:\\n\", classification_report(Y_val, svm_pred))\n"
      ]
    },
    {
      "cell_type": "code",
      "execution_count": 32,
      "metadata": {
        "colab": {
          "base_uri": "https://localhost:8080/"
        },
        "id": "muOzrSccgAy4",
        "outputId": "f35512aa-3309-47e7-da06-581c745a8a3e"
      },
      "outputs": [
        {
          "name": "stdout",
          "output_type": "stream",
          "text": [
            "Fitting 5 folds for each of 100 candidates, totalling 500 fits\n"
          ]
        }
      ],
      "source": [
        "from sklearn.model_selection import RandomizedSearchCV\n",
        "from scipy.stats import uniform, randint\n",
        "\n",
        "param_dist_svm = {\n",
        "    'C': uniform(0.1, 10),\n",
        "    'gamma': ['scale', 'auto'],\n",
        "    'kernel': ['linear', 'rbf', 'poly', 'sigmoid']\n",
        "}\n",
        "\n",
        "random_search_svm = RandomizedSearchCV(SVC(), param_distributions=param_dist_svm, n_iter=100, cv=5, verbose=1, random_state=42)\n",
        "random_search_svm.fit(feature_set, Y_data)\n",
        "best_svm = random_search_svm.best_estimator_\n"
      ]
    },
    {
      "cell_type": "code",
      "execution_count": 33,
      "metadata": {
        "colab": {
          "base_uri": "https://localhost:8080/"
        },
        "id": "w2Xdrf2ReHdh",
        "outputId": "5a0a70fa-b799-41a7-e811-1a58154171ef"
      },
      "outputs": [
        {
          "name": "stdout",
          "output_type": "stream",
          "text": [
            "Accuracy: 0.6666666666666666\n",
            "Classification Report:\n",
            "               precision    recall  f1-score   support\n",
            "\n",
            "           0       0.67      0.67      0.67         3\n",
            "           1       0.67      0.67      0.67         3\n",
            "\n",
            "    accuracy                           0.67         6\n",
            "   macro avg       0.67      0.67      0.67         6\n",
            "weighted avg       0.67      0.67      0.67         6\n",
            "\n"
          ]
        }
      ],
      "source": [
        "from sklearn.naive_bayes import GaussianNB\n",
        "nb_model = GaussianNB()\n",
        "nb_model.fit(feature_set, Y_data)\n",
        "nb_pred = nb_model.predict(feature_set_val)\n",
        "\n",
        "print(\"Accuracy:\", accuracy_score(Y_val, nb_pred))\n",
        "print(\"Classification Report:\\n\", classification_report(Y_val, nb_pred))\n"
      ]
    },
    {
      "cell_type": "code",
      "execution_count": null,
      "metadata": {
        "id": "1KhBGM0ngN2v"
      },
      "outputs": [],
      "source": []
    }
  ],
  "metadata": {
    "colab": {
      "provenance": []
    },
    "kernelspec": {
      "display_name": ".venv",
      "language": "python",
      "name": "python3"
    },
    "language_info": {
      "codemirror_mode": {
        "name": "ipython",
        "version": 3
      },
      "file_extension": ".py",
      "mimetype": "text/x-python",
      "name": "python",
      "nbconvert_exporter": "python",
      "pygments_lexer": "ipython3",
      "version": "3.12.3"
    }
  },
  "nbformat": 4,
  "nbformat_minor": 0
}
